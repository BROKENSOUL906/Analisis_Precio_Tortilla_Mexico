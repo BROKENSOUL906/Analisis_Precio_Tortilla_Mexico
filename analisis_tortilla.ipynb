{
 "cells": [
  {
   "cell_type": "code",
   "execution_count": null,
   "id": "f881cbb1",
   "metadata": {},
   "outputs": [],
   "source": [
    "import pandas as pd\n",
    "\n",
    "# Carga tu archivo CSV en un DataFrame\n",
    "# Asegúrate de que el archivo .csv esté en la misma carpeta que este notebook\n",
    "df = pd.read_csv('tortilla_prices.csv')\n",
    "\n",
    "# Muestra las primeras 5 filas para una inspección inicial\n",
    "print(df.head())"
   ]
  },
  {
   "cell_type": "code",
   "execution_count": null,
   "id": "437c8996",
   "metadata": {},
   "outputs": [],
   "source": [
    "df.info()"
   ]
  },
  {
   "cell_type": "code",
   "execution_count": null,
   "id": "fea3e332",
   "metadata": {},
   "outputs": [],
   "source": [
    "df.dropna(subset=['Price per kilogram'], inplace=True)"
   ]
  },
  {
   "cell_type": "code",
   "execution_count": null,
   "id": "f4b0dc18",
   "metadata": {},
   "outputs": [],
   "source": [
    "df.info()"
   ]
  },
  {
   "cell_type": "code",
   "execution_count": null,
   "id": "19d2dfe6",
   "metadata": {},
   "outputs": [],
   "source": [
    "# Importa la librería datetime\n",
    "from datetime import datetime\n",
    "\n",
    "# Combina las columnas Year, Month, y Day en una sola columna de fecha\n",
    "df['date'] = pd.to_datetime(df[['Year', 'Month', 'Day']])\n",
    "\n",
    "# Muestra el DataFrame con la nueva columna de fecha\n",
    "df.head()"
   ]
  },
  {
   "cell_type": "code",
   "execution_count": null,
   "id": "88213021",
   "metadata": {},
   "outputs": [],
   "source": [
    "import matplotlib.pyplot as plt\n",
    "import seaborn as sns\n",
    "\n",
    "# Configurar el estilo de los gráficos\n",
    "sns.set_style('whitegrid')\n",
    "\n",
    "# --- Evolución del Precio Promedio a lo largo del Tiempo ---\n",
    "# Agrupar los datos por fecha y calcular el precio promedio\n",
    "precio_promedio_por_fecha = df.groupby('date')['Price per kilogram'].mean()\n",
    "\n",
    "# Crear un gráfico de líneas para visualizar la tendencia\n",
    "plt.figure(figsize=(12, 6))\n",
    "precio_promedio_por_fecha.plot()\n",
    "plt.title('Evolución del Precio Promedio de la Tortilla en México')\n",
    "plt.xlabel('Fecha')\n",
    "plt.ylabel('Precio Promedio por Kilogramo')\n",
    "plt.grid(True)\n",
    "plt.show()\n",
    "\n",
    "\n",
    "# --- Comparación de Precios por Estado ---\n",
    "# Calcular el precio promedio por estado y ordenarlo\n",
    "precio_promedio_por_estado = df.groupby('State')['Price per kilogram'].mean().sort_values(ascending=False)\n",
    "\n",
    "# Crear un gráfico de barras\n",
    "plt.figure(figsize=(15, 8))\n",
    "sns.barplot(x=precio_promedio_por_estado.index, y=precio_promedio_por_estado.values, palette='viridis')\n",
    "plt.title('Precio Promedio de la Tortilla por Estado')\n",
    "plt.xlabel('Estado')\n",
    "plt.ylabel('Precio Promedio por Kilogramo')\n",
    "plt.xticks(rotation=90)\n",
    "plt.show()"
   ]
  },
  {
   "cell_type": "code",
   "execution_count": null,
   "id": "4c23c4fb",
   "metadata": {},
   "outputs": [],
   "source": [
    "# --- Estadísticas descriptivas de los precios ---\n",
    "print(\"Estadísticas Descriptivas del Precio por Kilogramo:\")\n",
    "print(df['Price per kilogram'].describe())\n",
    "\n",
    "# --- Análisis por Tipo de Tienda ---\n",
    "# Calcular el precio promedio por tipo de tienda\n",
    "precio_promedio_por_tienda = df.groupby('Store type')['Price per kilogram'].mean().sort_values()\n",
    "\n",
    "# Crear un gráfico de barras para comparar los precios\n",
    "plt.figure(figsize=(10, 6))\n",
    "sns.barplot(x=precio_promedio_por_tienda.index, y=precio_promedio_por_tienda.values, palette='coolwarm')\n",
    "plt.title('Precio Promedio de la Tortilla por Tipo de Tienda')\n",
    "plt.xlabel('Tipo de Tienda')\n",
    "plt.ylabel('Precio Promedio por Kilogramo')\n",
    "plt.xticks(rotation=45)\n",
    "plt.show()"
   ]
  },
  {
   "cell_type": "code",
   "execution_count": null,
   "id": "71b6d5a7",
   "metadata": {},
   "outputs": [],
   "source": [
    "# Analiza los precios más altos para identificar los picos\n",
    "precios_altos = df.nlargest(10, 'Price per kilogram')\n",
    "print(\"Top 10 de precios más altos y sus fechas:\")\n",
    "print(precios_altos[['State', 'City', 'date', 'Price per kilogram']])\n",
    "\n",
    "# Opcional: Filtra por un rango de fechas para investigar un pico específico\n",
    "# df_pico = df[(df['date'] >= '2020-01-01') & (df['date'] <= '2020-12-31')]\n",
    "# print(df_pico['State'].value_counts())"
   ]
  },
  {
   "cell_type": "code",
   "execution_count": null,
   "id": "2d4ec759",
   "metadata": {},
   "outputs": [],
   "source": [
    "# Filtra los datos para obtener solo los de Baja California\n",
    "df_baja = df[df['State'] == 'Baja California']\n",
    "\n",
    "# Agrupa los precios de Baja California por fecha\n",
    "precio_baja_por_fecha = df_baja.groupby('date')['Price per kilogram'].mean()\n",
    "\n",
    "# Agrupa los precios nacionales para la comparación\n",
    "precio_nacional_por_fecha = df.groupby('date')['Price per kilogram'].mean()\n",
    "\n",
    "# Crea un gráfico de líneas para comparar la evolución de precios\n",
    "plt.figure(figsize=(15, 8))\n",
    "precio_nacional_por_fecha.plot(label='Promedio Nacional')\n",
    "precio_baja_por_fecha.plot(label='Baja California')\n",
    "\n",
    "plt.title('Evolución del Precio de la Tortilla: Baja California vs. Promedio Nacional')\n",
    "plt.xlabel('Fecha')\n",
    "plt.ylabel('Precio Promedio por Kilogramo')\n",
    "plt.legend()\n",
    "plt.grid(True)\n",
    "plt.show()"
   ]
  },
  {
   "cell_type": "code",
   "execution_count": null,
   "id": "614fffe3",
   "metadata": {},
   "outputs": [],
   "source": [
    "# Calcula el precio promedio por tipo de tienda, solo para Baja California\n",
    "precio_por_tienda_baja = df_baja.groupby('Store type')['Price per kilogram'].mean().sort_values()\n",
    "\n",
    "# Crea un gráfico de barras para comparar los precios\n",
    "plt.figure(figsize=(10, 6))\n",
    "sns.barplot(x=precio_por_tienda_baja.index, y=precio_por_tienda_baja.values, palette='viridis')\n",
    "plt.title('Precio Promedio de la Tortilla por Tipo de Tienda en Baja California')\n",
    "plt.xlabel('Tipo de Tienda')\n",
    "plt.ylabel('Precio Promedio por Kilogramo')\n",
    "plt.xticks(rotation=45)\n",
    "plt.show()"
   ]
  },
  {
   "cell_type": "code",
   "execution_count": null,
   "id": "7b04f70b",
   "metadata": {},
   "outputs": [],
   "source": [
    "# Agrupa los datos por fecha y por estado, calculando el precio promedio\n",
    "precios_por_estado_fecha = df.groupby(['date', 'State'])['Price per kilogram'].mean().unstack()\n",
    "\n",
    "# Selecciona los estados de interés (Sonora y Tlaxcala)\n",
    "estados_a_comparar = precios_por_estado_fecha[['Sonora', 'Tlaxcala']]\n",
    "\n",
    "# Crea un gráfico de líneas para la comparación\n",
    "plt.figure(figsize=(15, 8))\n",
    "estados_a_comparar.plot(ax=plt.gca())\n",
    "plt.title('Comparación de la Evolución del Precio del Kilo de Tortilla: Sonora vs. Tlaxcala')\n",
    "plt.xlabel('Fecha')\n",
    "plt.ylabel('Precio Promedio por Kilogramo')\n",
    "plt.legend(title='Estado')\n",
    "plt.grid(True)\n",
    "plt.show()"
   ]
  },
  {
   "cell_type": "code",
   "execution_count": null,
   "id": "a4b9043d",
   "metadata": {},
   "outputs": [],
   "source": [
    "# Calcula el precio promedio por tipo de tienda\n",
    "precio_por_tienda = df.groupby('Store type')['Price per kilogram'].mean().sort_values()\n",
    "\n",
    "# Crea un gráfico de barras para visualizar la diferencia de precios\n",
    "plt.figure(figsize=(10, 6))\n",
    "sns.barplot(x=precio_por_tienda.index, y=precio_por_tienda.values, palette='coolwarm')\n",
    "plt.title('Precio Promedio de la Tortilla por Tipo de Tienda')\n",
    "plt.xlabel('Tipo de Tienda')\n",
    "plt.ylabel('Precio Promedio por Kilogramo')\n",
    "plt.xticks(rotation=45)\n",
    "plt.show()"
   ]
  },
  {
   "cell_type": "code",
   "execution_count": null,
   "id": "08cdbb5f",
   "metadata": {},
   "outputs": [],
   "source": [
    "# Importar las librerías si no lo has hecho\n",
    "import matplotlib.pyplot as plt\n",
    "import seaborn as sns\n",
    "\n",
    "# Calcular el precio promedio por tipo de tienda a nivel nacional\n",
    "precio_promedio_por_tienda_nacional = df.groupby('Store type')['Price per kilogram'].mean().sort_values()\n",
    "\n",
    "# Crear el gráfico de barras para comparar los precios\n",
    "plt.figure(figsize=(10, 6))\n",
    "sns.barplot(x=precio_promedio_por_tienda_nacional.index, y=precio_promedio_por_tienda_nacional.values, palette='coolwarm')\n",
    "plt.title('Precio Promedio de la Tortilla por Tipo de Tienda (Nivel Nacional)')\n",
    "plt.xlabel('Tipo de Tienda')\n",
    "plt.ylabel('Precio Promedio por Kilogramo')\n",
    "plt.xticks(rotation=45)\n",
    "plt.show()"
   ]
  }
 ],
 "metadata": {
  "kernelspec": {
   "display_name": "Python 3 (ipykernel)",
   "language": "python",
   "name": "python3"
  },
  "language_info": {
   "codemirror_mode": {
    "name": "ipython",
    "version": 3
   },
   "file_extension": ".py",
   "mimetype": "text/x-python",
   "name": "python",
   "nbconvert_exporter": "python",
   "pygments_lexer": "ipython3",
   "version": "3.13.7"
  }
 },
 "nbformat": 4,
 "nbformat_minor": 5
}
